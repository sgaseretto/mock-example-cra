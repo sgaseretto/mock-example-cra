{
 "cells": [
  {
   "cell_type": "markdown",
   "metadata": {},
   "source": [
    "# Entendiendo qué es el riesgo crediticio o ```credit risk```\n",
    "Consiste en la posibilidad de que una persona que ha prestado plata no te pague toda su deuda\n",
    "\n",
    "Un credito o prestamo está en ```default``` cuando la agencia esta razonablemente segura de que el cliente no va a pagar su cuenta\n",
    "## Perdida Esperada o ```Expected Loss``` (EL)\n",
    "La cantidad que una empresa pierde como resultado del ```loan default```\n",
    "\n",
    "La perdida esperada es un calculo realizado con los siguientes tres componentes:\n",
    "- Probabilidad de ```Default``` (```PD```)\n",
    "- Exposicion al momento del Default (```EAD```) que es la cantidad faltante al momento del ```default```\n",
    "- Loss Given Default (```LGD```) que es el ratio de la exposicion contra cualquier recuperacion de la perdida. Si un cliente debe 100.000 PYG y se logra vender el prestamo por 20.000 PYG, el LGD será 80%.\n",
    "\n",
    "La formula de la Perdida Esperada es: $$EL = PD * EAD * LGD$$\n",
    "\n",
    "## TIpos de Datos disponibles para crear un modelo de ```credit risk assesment```\n",
    "- De Aplicacion\n",
    "    - Tasa de Interes\n",
    "    - Faja\n",
    "    - Cantidad\n",
    "- De Comportamiento\n",
    "    - Hace cuantos años está empleado\n",
    "    - Defaults anteriores (historial crediticio)\n",
    "    - Ingresos\n",
    "    \n"
   ]
  },
  {
   "cell_type": "markdown",
   "metadata": {},
   "source": [
    "## Recursos:\n",
    "- [Financial Analytics: Credit Default Analysis & Predictions](http://rtuttinsights.com/portfolio/financial-analytics-credit-card-default-analysis-predictions/)\n",
    "- [Making Predictions with Data and Python : Predicting Credit Card Default | packtpub.com](https://www.youtube.com/watch?v=zUqa6KcwRhs)\n",
    "- [Credit Risk Modeling in Python\n",
    "](https://www.datacamp.com/courses/credit-risk-modeling-in-python)\n",
    "- [Home Credit Default Analysis | kaggle](https://www.kaggle.com/ashishpatel26/home-credit-default-analysis)\n",
    "- [Metodologías de cuantificación del riesgo de crédito](https://accionistaseinversores.bbva.com/microsites/bbva2012/es/Gestiondelriesgo/Metodologiasdecuantificaciondelriesgodecredito.html)"
   ]
  },
  {
   "cell_type": "code",
   "execution_count": 1,
   "metadata": {},
   "outputs": [],
   "source": [
    "import pandas as pd\n",
    "import matplotlib.pyplot as plt\n",
    "cr_loan = pd.read_csv(\"data/cr_loan2.csv\")"
   ]
  },
  {
   "cell_type": "code",
   "execution_count": 2,
   "metadata": {},
   "outputs": [
    {
     "data": {
      "text/plain": [
       "person_age                      int64\n",
       "person_income                   int64\n",
       "person_home_ownership          object\n",
       "person_emp_length             float64\n",
       "loan_intent                    object\n",
       "loan_grade                     object\n",
       "loan_amnt                       int64\n",
       "loan_int_rate                 float64\n",
       "loan_status                     int64\n",
       "loan_percent_income           float64\n",
       "cb_person_default_on_file      object\n",
       "cb_person_cred_hist_length      int64\n",
       "dtype: object"
      ]
     },
     "execution_count": 2,
     "metadata": {},
     "output_type": "execute_result"
    }
   ],
   "source": [
    "cr_loan.dtypes"
   ]
  },
  {
   "cell_type": "code",
   "execution_count": 3,
   "metadata": {},
   "outputs": [
    {
     "data": {
      "text/html": [
       "<div>\n",
       "<style scoped>\n",
       "    .dataframe tbody tr th:only-of-type {\n",
       "        vertical-align: middle;\n",
       "    }\n",
       "\n",
       "    .dataframe tbody tr th {\n",
       "        vertical-align: top;\n",
       "    }\n",
       "\n",
       "    .dataframe thead th {\n",
       "        text-align: right;\n",
       "    }\n",
       "</style>\n",
       "<table border=\"1\" class=\"dataframe\">\n",
       "  <thead>\n",
       "    <tr style=\"text-align: right;\">\n",
       "      <th></th>\n",
       "      <th>person_age</th>\n",
       "      <th>person_income</th>\n",
       "      <th>person_home_ownership</th>\n",
       "      <th>person_emp_length</th>\n",
       "      <th>loan_intent</th>\n",
       "      <th>loan_grade</th>\n",
       "      <th>loan_amnt</th>\n",
       "      <th>loan_int_rate</th>\n",
       "      <th>loan_status</th>\n",
       "      <th>loan_percent_income</th>\n",
       "      <th>cb_person_default_on_file</th>\n",
       "      <th>cb_person_cred_hist_length</th>\n",
       "    </tr>\n",
       "  </thead>\n",
       "  <tbody>\n",
       "    <tr>\n",
       "      <td>0</td>\n",
       "      <td>22</td>\n",
       "      <td>59000</td>\n",
       "      <td>RENT</td>\n",
       "      <td>123.0</td>\n",
       "      <td>PERSONAL</td>\n",
       "      <td>D</td>\n",
       "      <td>35000</td>\n",
       "      <td>16.02</td>\n",
       "      <td>1</td>\n",
       "      <td>0.59</td>\n",
       "      <td>Y</td>\n",
       "      <td>3</td>\n",
       "    </tr>\n",
       "    <tr>\n",
       "      <td>1</td>\n",
       "      <td>21</td>\n",
       "      <td>9600</td>\n",
       "      <td>OWN</td>\n",
       "      <td>5.0</td>\n",
       "      <td>EDUCATION</td>\n",
       "      <td>B</td>\n",
       "      <td>1000</td>\n",
       "      <td>11.14</td>\n",
       "      <td>0</td>\n",
       "      <td>0.10</td>\n",
       "      <td>N</td>\n",
       "      <td>2</td>\n",
       "    </tr>\n",
       "    <tr>\n",
       "      <td>2</td>\n",
       "      <td>25</td>\n",
       "      <td>9600</td>\n",
       "      <td>MORTGAGE</td>\n",
       "      <td>1.0</td>\n",
       "      <td>MEDICAL</td>\n",
       "      <td>C</td>\n",
       "      <td>5500</td>\n",
       "      <td>12.87</td>\n",
       "      <td>1</td>\n",
       "      <td>0.57</td>\n",
       "      <td>N</td>\n",
       "      <td>3</td>\n",
       "    </tr>\n",
       "    <tr>\n",
       "      <td>3</td>\n",
       "      <td>23</td>\n",
       "      <td>65500</td>\n",
       "      <td>RENT</td>\n",
       "      <td>4.0</td>\n",
       "      <td>MEDICAL</td>\n",
       "      <td>C</td>\n",
       "      <td>35000</td>\n",
       "      <td>15.23</td>\n",
       "      <td>1</td>\n",
       "      <td>0.53</td>\n",
       "      <td>N</td>\n",
       "      <td>2</td>\n",
       "    </tr>\n",
       "    <tr>\n",
       "      <td>4</td>\n",
       "      <td>24</td>\n",
       "      <td>54400</td>\n",
       "      <td>RENT</td>\n",
       "      <td>8.0</td>\n",
       "      <td>MEDICAL</td>\n",
       "      <td>C</td>\n",
       "      <td>35000</td>\n",
       "      <td>14.27</td>\n",
       "      <td>1</td>\n",
       "      <td>0.55</td>\n",
       "      <td>Y</td>\n",
       "      <td>4</td>\n",
       "    </tr>\n",
       "    <tr>\n",
       "      <td>5</td>\n",
       "      <td>21</td>\n",
       "      <td>9900</td>\n",
       "      <td>OWN</td>\n",
       "      <td>2.0</td>\n",
       "      <td>VENTURE</td>\n",
       "      <td>A</td>\n",
       "      <td>2500</td>\n",
       "      <td>7.14</td>\n",
       "      <td>1</td>\n",
       "      <td>0.25</td>\n",
       "      <td>N</td>\n",
       "      <td>2</td>\n",
       "    </tr>\n",
       "    <tr>\n",
       "      <td>6</td>\n",
       "      <td>26</td>\n",
       "      <td>77100</td>\n",
       "      <td>RENT</td>\n",
       "      <td>8.0</td>\n",
       "      <td>EDUCATION</td>\n",
       "      <td>B</td>\n",
       "      <td>35000</td>\n",
       "      <td>12.42</td>\n",
       "      <td>1</td>\n",
       "      <td>0.45</td>\n",
       "      <td>N</td>\n",
       "      <td>3</td>\n",
       "    </tr>\n",
       "    <tr>\n",
       "      <td>7</td>\n",
       "      <td>24</td>\n",
       "      <td>78956</td>\n",
       "      <td>RENT</td>\n",
       "      <td>5.0</td>\n",
       "      <td>MEDICAL</td>\n",
       "      <td>B</td>\n",
       "      <td>35000</td>\n",
       "      <td>11.11</td>\n",
       "      <td>1</td>\n",
       "      <td>0.44</td>\n",
       "      <td>N</td>\n",
       "      <td>4</td>\n",
       "    </tr>\n",
       "    <tr>\n",
       "      <td>8</td>\n",
       "      <td>24</td>\n",
       "      <td>83000</td>\n",
       "      <td>RENT</td>\n",
       "      <td>8.0</td>\n",
       "      <td>PERSONAL</td>\n",
       "      <td>A</td>\n",
       "      <td>35000</td>\n",
       "      <td>8.90</td>\n",
       "      <td>1</td>\n",
       "      <td>0.42</td>\n",
       "      <td>N</td>\n",
       "      <td>2</td>\n",
       "    </tr>\n",
       "    <tr>\n",
       "      <td>9</td>\n",
       "      <td>21</td>\n",
       "      <td>10000</td>\n",
       "      <td>OWN</td>\n",
       "      <td>6.0</td>\n",
       "      <td>VENTURE</td>\n",
       "      <td>D</td>\n",
       "      <td>1600</td>\n",
       "      <td>14.74</td>\n",
       "      <td>1</td>\n",
       "      <td>0.16</td>\n",
       "      <td>N</td>\n",
       "      <td>3</td>\n",
       "    </tr>\n",
       "    <tr>\n",
       "      <td>10</td>\n",
       "      <td>22</td>\n",
       "      <td>85000</td>\n",
       "      <td>RENT</td>\n",
       "      <td>6.0</td>\n",
       "      <td>VENTURE</td>\n",
       "      <td>B</td>\n",
       "      <td>35000</td>\n",
       "      <td>10.37</td>\n",
       "      <td>1</td>\n",
       "      <td>0.41</td>\n",
       "      <td>N</td>\n",
       "      <td>4</td>\n",
       "    </tr>\n",
       "    <tr>\n",
       "      <td>11</td>\n",
       "      <td>21</td>\n",
       "      <td>10000</td>\n",
       "      <td>OWN</td>\n",
       "      <td>2.0</td>\n",
       "      <td>HOMEIMPROVEMENT</td>\n",
       "      <td>A</td>\n",
       "      <td>4500</td>\n",
       "      <td>8.63</td>\n",
       "      <td>1</td>\n",
       "      <td>0.45</td>\n",
       "      <td>N</td>\n",
       "      <td>2</td>\n",
       "    </tr>\n",
       "    <tr>\n",
       "      <td>12</td>\n",
       "      <td>23</td>\n",
       "      <td>95000</td>\n",
       "      <td>RENT</td>\n",
       "      <td>2.0</td>\n",
       "      <td>VENTURE</td>\n",
       "      <td>A</td>\n",
       "      <td>35000</td>\n",
       "      <td>7.90</td>\n",
       "      <td>1</td>\n",
       "      <td>0.37</td>\n",
       "      <td>N</td>\n",
       "      <td>2</td>\n",
       "    </tr>\n",
       "    <tr>\n",
       "      <td>13</td>\n",
       "      <td>26</td>\n",
       "      <td>108160</td>\n",
       "      <td>RENT</td>\n",
       "      <td>4.0</td>\n",
       "      <td>EDUCATION</td>\n",
       "      <td>E</td>\n",
       "      <td>35000</td>\n",
       "      <td>18.39</td>\n",
       "      <td>1</td>\n",
       "      <td>0.32</td>\n",
       "      <td>N</td>\n",
       "      <td>4</td>\n",
       "    </tr>\n",
       "    <tr>\n",
       "      <td>14</td>\n",
       "      <td>23</td>\n",
       "      <td>115000</td>\n",
       "      <td>RENT</td>\n",
       "      <td>2.0</td>\n",
       "      <td>EDUCATION</td>\n",
       "      <td>A</td>\n",
       "      <td>35000</td>\n",
       "      <td>7.90</td>\n",
       "      <td>0</td>\n",
       "      <td>0.30</td>\n",
       "      <td>N</td>\n",
       "      <td>4</td>\n",
       "    </tr>\n",
       "  </tbody>\n",
       "</table>\n",
       "</div>"
      ],
      "text/plain": [
       "    person_age  person_income person_home_ownership  person_emp_length  \\\n",
       "0           22          59000                  RENT              123.0   \n",
       "1           21           9600                   OWN                5.0   \n",
       "2           25           9600              MORTGAGE                1.0   \n",
       "3           23          65500                  RENT                4.0   \n",
       "4           24          54400                  RENT                8.0   \n",
       "5           21           9900                   OWN                2.0   \n",
       "6           26          77100                  RENT                8.0   \n",
       "7           24          78956                  RENT                5.0   \n",
       "8           24          83000                  RENT                8.0   \n",
       "9           21          10000                   OWN                6.0   \n",
       "10          22          85000                  RENT                6.0   \n",
       "11          21          10000                   OWN                2.0   \n",
       "12          23          95000                  RENT                2.0   \n",
       "13          26         108160                  RENT                4.0   \n",
       "14          23         115000                  RENT                2.0   \n",
       "\n",
       "        loan_intent loan_grade  loan_amnt  loan_int_rate  loan_status  \\\n",
       "0          PERSONAL          D      35000          16.02            1   \n",
       "1         EDUCATION          B       1000          11.14            0   \n",
       "2           MEDICAL          C       5500          12.87            1   \n",
       "3           MEDICAL          C      35000          15.23            1   \n",
       "4           MEDICAL          C      35000          14.27            1   \n",
       "5           VENTURE          A       2500           7.14            1   \n",
       "6         EDUCATION          B      35000          12.42            1   \n",
       "7           MEDICAL          B      35000          11.11            1   \n",
       "8          PERSONAL          A      35000           8.90            1   \n",
       "9           VENTURE          D       1600          14.74            1   \n",
       "10          VENTURE          B      35000          10.37            1   \n",
       "11  HOMEIMPROVEMENT          A       4500           8.63            1   \n",
       "12          VENTURE          A      35000           7.90            1   \n",
       "13        EDUCATION          E      35000          18.39            1   \n",
       "14        EDUCATION          A      35000           7.90            0   \n",
       "\n",
       "    loan_percent_income cb_person_default_on_file  cb_person_cred_hist_length  \n",
       "0                  0.59                         Y                           3  \n",
       "1                  0.10                         N                           2  \n",
       "2                  0.57                         N                           3  \n",
       "3                  0.53                         N                           2  \n",
       "4                  0.55                         Y                           4  \n",
       "5                  0.25                         N                           2  \n",
       "6                  0.45                         N                           3  \n",
       "7                  0.44                         N                           4  \n",
       "8                  0.42                         N                           2  \n",
       "9                  0.16                         N                           3  \n",
       "10                 0.41                         N                           4  \n",
       "11                 0.45                         N                           2  \n",
       "12                 0.37                         N                           2  \n",
       "13                 0.32                         N                           4  \n",
       "14                 0.30                         N                           4  "
      ]
     },
     "execution_count": 3,
     "metadata": {},
     "output_type": "execute_result"
    }
   ],
   "source": [
    "cr_loan.head(15)"
   ]
  },
  {
   "cell_type": "code",
   "execution_count": 4,
   "metadata": {},
   "outputs": [
    {
     "data": {
      "image/png": "[encoded data removed]",
      "text/plain": [
       "<Figure size 432x288 with 1 Axes>"
      ]
     },
     "metadata": {
      "needs_background": "light"
     },
     "output_type": "display_data"
    }
   ],
   "source": [
    "n, bins, patches = plt.hist(x=cr_loan['loan_status'], bins='auto', color='blue',alpha=0.7, rwidth=0.85)\n",
    "plt.xlabel(\"Loan Defaults\")\n",
    "plt.show()"
   ]
  },
  {
   "cell_type": "code",
   "execution_count": 5,
   "metadata": {},
   "outputs": [
    {
     "data": {
      "image/png": "[encoded data removed]",
      "text/plain": [
       "<Figure size 432x288 with 1 Axes>"
      ]
     },
     "metadata": {
      "needs_background": "light"
     },
     "output_type": "display_data"
    }
   ],
   "source": [
    "n, bins, patches = plt.hist(x=cr_loan['loan_amnt'], bins='auto', color='blue',alpha=0.7, rwidth=0.85)\n",
    "plt.xlabel(\"Loan Amount\")\n",
    "plt.show()"
   ]
  },
  {
   "cell_type": "code",
   "execution_count": 6,
   "metadata": {},
   "outputs": [
    {
     "data": {
      "image/png": "[encoded data removed]",
      "text/plain": [
       "<Figure size 432x288 with 1 Axes>"
      ]
     },
     "metadata": {
      "needs_background": "light"
     },
     "output_type": "display_data"
    }
   ],
   "source": [
    "plt.scatter(x=cr_loan['person_income'], y=cr_loan['person_age'], c=cr_loan['loan_status'])\n",
    "plt.xlabel(\"Persons Income\")\n",
    "plt.ylabel(\"Persons Age\")\n",
    "plt.show()"
   ]
  },
  {
   "cell_type": "code",
   "execution_count": 7,
   "metadata": {},
   "outputs": [
    {
     "data": {
      "image/png": "[encoded data removed]",
      "text/plain": [
       "<Figure size 432x288 with 1 Axes>"
      ]
     },
     "metadata": {
      "needs_background": "light"
     },
     "output_type": "display_data"
    }
   ],
   "source": [
    "plt.scatter(cr_loan['person_income'], cr_loan['person_age'],c='blue', alpha=0.5)\n",
    "plt.xlabel('Personal Income')\n",
    "plt.ylabel('Persone Age')\n",
    "plt.show()"
   ]
  },
  {
   "cell_type": "markdown",
   "metadata": {},
   "source": [
    "Crosstab entre el ```tiempo de empleo de una persona``` y si la persona ```tiene una casa```"
   ]
  },
  {
   "cell_type": "code",
   "execution_count": 8,
   "metadata": {},
   "outputs": [
    {
     "name": "stdout",
     "output_type": "stream",
     "text": [
      "person_home_ownership  MORTGAGE  OTHER   OWN   RENT    All\n",
      "person_emp_length                                         \n",
      "0.0                        1092     23   324   2666   4105\n",
      "1.0                         806     16   218   1875   2915\n",
      "2.0                        1189     11   255   2394   3849\n",
      "3.0                        1244     12   212   1988   3456\n",
      "4.0                        1083      9   205   1577   2874\n",
      "5.0                        1298      9   219   1420   2946\n",
      "6.0                        1322      9   191   1144   2666\n",
      "7.0                        1151      3   181    861   2196\n",
      "8.0                         902      5   161    619   1687\n",
      "9.0                         791      1    92    483   1367\n",
      "10.0                        409      2    76    209    696\n",
      "11.0                        439      4    66    231    740\n",
      "12.0                        369      1    47    158    575\n",
      "13.0                        269      0    46    111    426\n",
      "14.0                        212      0    31     92    335\n",
      "15.0                        143      1    22     72    238\n",
      "16.0                        100      0    12     53    165\n",
      "17.0                         78      0    10     41    129\n",
      "18.0                         67      0    11     26    104\n",
      "19.0                         40      0     6     18     64\n",
      "20.0                         27      0     7      8     42\n",
      "21.0                         22      0     4     12     38\n",
      "22.0                         11      0     4      4     19\n",
      "23.0                          4      0     3      3     10\n",
      "24.0                          3      1     3      3     10\n",
      "25.0                          5      0     2      1      8\n",
      "26.0                          2      0     1      3      6\n",
      "27.0                          3      0     0      2      5\n",
      "28.0                          3      0     0      0      3\n",
      "29.0                          1      0     0      0      1\n",
      "30.0                          2      0     0      0      2\n",
      "31.0                          3      0     1      0      4\n",
      "34.0                          1      0     0      0      1\n",
      "38.0                          1      0     0      0      1\n",
      "41.0                          0      0     0      1      1\n",
      "123.0                         1      0     0      1      2\n",
      "All                       13093    107  2410  16076  31686\n"
     ]
    }
   ],
   "source": [
    "print(pd.crosstab(cr_loan['person_emp_length'], cr_loan['person_home_ownership'], margins = True))"
   ]
  },
  {
   "cell_type": "markdown",
   "metadata": {},
   "source": [
    "Crosstab entre ```Intencion del Prestamo``` y si ```pagó o no el prestamo```"
   ]
  },
  {
   "cell_type": "code",
   "execution_count": 9,
   "metadata": {},
   "outputs": [
    {
     "name": "stdout",
     "output_type": "stream",
     "text": [
      "loan_status            0     1    All\n",
      "loan_intent                          \n",
      "DEBTCONSOLIDATION   3722  1490   5212\n",
      "EDUCATION           5342  1111   6453\n",
      "HOMEIMPROVEMENT     2664   941   3605\n",
      "MEDICAL             4450  1621   6071\n",
      "PERSONAL            4423  1098   5521\n",
      "VENTURE             4872   847   5719\n",
      "All                25473  7108  32581\n"
     ]
    }
   ],
   "source": [
    "print(pd.crosstab(cr_loan['loan_intent'], cr_loan['loan_status'], margins = True))"
   ]
  },
  {
   "cell_type": "markdown",
   "metadata": {},
   "source": [
    "Crosstab entre si ```fue o no default``` el presamo y el ```grado``` que se le dio al prestamo"
   ]
  },
  {
   "cell_type": "code",
   "execution_count": 10,
   "metadata": {},
   "outputs": [
    {
     "name": "stdout",
     "output_type": "stream",
     "text": [
      "loan_grade       A      B     C     D    E    F   G    All\n",
      "loan_status                                               \n",
      "0             9704   8750  5119  1485  343   71   1  25473\n",
      "1             1073   1701  1339  2141  621  170  63   7108\n",
      "All          10777  10451  6458  3626  964  241  64  32581\n"
     ]
    }
   ],
   "source": [
    "print(pd.crosstab(cr_loan['loan_status'], cr_loan['loan_grade'], margins = True))"
   ]
  },
  {
   "cell_type": "code",
   "execution_count": 11,
   "metadata": {},
   "outputs": [
    {
     "name": "stdout",
     "output_type": "stream",
     "text": [
      "loan_status               0                                   1              \\\n",
      "loan_grade                A     B     C     D    E   F  G     A     B     C   \n",
      "person_home_ownership                                                         \n",
      "MORTGAGE               5219  3729  1934   658  178  36  0   239   324   321   \n",
      "OTHER                    23    29    11     9    2   0  0     3     5     6   \n",
      "OWN                     860   770   464   264   26   7  0    66    34    31   \n",
      "RENT                   3602  4222  2710   554  137  28  1   765  1338   981   \n",
      "All                    9704  8750  5119  1485  343  71  1  1073  1701  1339   \n",
      "\n",
      "loan_status                                  All  \n",
      "loan_grade                D    E    F   G         \n",
      "person_home_ownership                             \n",
      "MORTGAGE                553  161   61  31  13444  \n",
      "OTHER                    11    6    2   0    107  \n",
      "OWN                      18   31    8   5   2584  \n",
      "RENT                   1559  423   99  27  16446  \n",
      "All                    2141  621  170  63  32581  \n"
     ]
    }
   ],
   "source": [
    "print(pd.crosstab(cr_loan['person_home_ownership'], [cr_loan['loan_status'], cr_loan['loan_grade']], margins = True))"
   ]
  },
  {
   "cell_type": "code",
   "execution_count": 12,
   "metadata": {},
   "outputs": [
    {
     "name": "stdout",
     "output_type": "stream",
     "text": [
      "loan_status                   0         1\n",
      "person_home_ownership                    \n",
      "MORTGAGE               0.146504  0.184882\n",
      "OTHER                  0.143784  0.300000\n",
      "OWN                    0.180013  0.297358\n",
      "RENT                   0.144611  0.264859\n"
     ]
    }
   ],
   "source": [
    "print(pd.crosstab(cr_loan['person_home_ownership'], cr_loan['loan_status'],\n",
    "              values=cr_loan['loan_percent_income'], aggfunc='mean'))"
   ]
  },
  {
   "cell_type": "code",
   "execution_count": 13,
   "metadata": {},
   "outputs": [
    {
     "data": {
      "image/png": "[encoded data removed]",
      "text/plain": [
       "<Figure size 432x288 with 1 Axes>"
      ]
     },
     "metadata": {
      "needs_background": "light"
     },
     "output_type": "display_data"
    }
   ],
   "source": [
    "cr_loan.boxplot(column = ['loan_percent_income'], by = 'loan_status')\n",
    "plt.title('Average Percent Income by Loan Status')\n",
    "plt.suptitle('')\n",
    "plt.show()"
   ]
  }
 ],
 "metadata": {
  "kernelspec": {
   "display_name": "Python 3",
   "language": "python",
   "name": "python3"
  },
  "language_info": {
   "codemirror_mode": {
    "name": "ipython",
    "version": 3
   },
   "file_extension": ".py",
   "mimetype": "text/x-python",
   "name": "python",
   "nbconvert_exporter": "python",
   "pygments_lexer": "ipython3",
   "version": "3.7.3"
  }
 },
 "nbformat": 4,
 "nbformat_minor": 2
}
