{
 "cells": [
  {
   "cell_type": "markdown",
   "metadata": {},
   "source": [
    "# Evaluacion e implementacion del Modelo\n",
    "## Macro Average de F1-score\n",
    "Usaremos con una metrica el ```macro average``` que se calcula como se muestra en la figura. De esta manera podremos usar una sola métrica para medir el rendimiento general del modelo\n",
    "\n",
    "<img src=\"images/macro-avg-f1-score.png\" class=\"center\" alt=\"macro avg de f1-score\" />\n",
    "\n",
    "Podemos obtener el ```macro average``` mediante \n",
    "\n",
    "```precision_recall_fscore_support(y_test, predictions, average = 'macro')[2]```\n",
    "\n",
    "## Analisis usando ROC y AUC\n",
    "- Modelos con mejor performance tendran más Lift, es decir, la curva se alejará más del centro\n",
    "- Más lift significa que el score de AUC será mayor\n",
    "\n",
    "## Calibracion del Modelo\n",
    "Mediremos que tan bien calibradas están las predicciones del modelo.\n",
    "\n",
    "Lo que esto significa es que queremos que las probabilidades de  ```Default``` representen correctamente el nivel de confianza del modelo\n",
    "- La probabilidad de ```Default``` tiene un grado de incertidumbre en su prediccion\n",
    "- Una muestra de prestamos y sus probabilidades de ```default``` predecidas debe ser cercana al porcentage de defaults en esa muestra\n",
    "\n",
    "<table style=\"width:100%; align:center; text-align: center\">\n",
    "  <tr>\n",
    "    <th>Muestra de Prestamos</th>\n",
    "    <th>Promedio Predicho de PD</th>\n",
    "    <th>Porcentaje Real de Defaults en la Muestra</th>\n",
    "    <th>Calibrado?</th>\n",
    "  </tr>\n",
    "  <tr>\n",
    "    <td>10</td>\n",
    "    <td>0.12</td>\n",
    "    <td>0.12</td>\n",
    "    <td>Si</td>\n",
    "  </tr>\n",
    "  <tr>\n",
    "    <td>10</td>\n",
    "    <td>0.25</td>\n",
    "    <td>0.65</td>\n",
    "    <td>No</td>\n",
    "  </tr>\n",
    "</table>\n",
    "\n",
    "En la tabla de arriba de puede ver que en la primera fila para una muestra de 10 prestamos el promedio predicho de los prestamos como defaults es del 12%, el cual coincide con el porcentaje real. En cambio, en la segunda fila el promedio predicho de defaults es de 25%, pero en realidad el 65% de la muestra contiene prestamos con default, por lo que el modelo no está calibrado\n",
    "\n",
    "Para calcular este valor utilizaremos la funcion ```calibration_curve```. El esta funcion toma como paremetros el test set, las probabildades y ```n_bins``` que representa el numero de muestras a tomar\n",
    "\n",
    "Llamemos ```PD``` a las probababilidades predichas y ```%Default``` al porcentaje real de ```Defaults``` en la muestra. \n",
    "Supongamos que para una de las muestras tenemos los valores:\n",
    "- ```PD=0.56```\n",
    "- ```%Default=0.75```\n",
    "\n",
    "Esto indica que estamos prediciendo menos defaults de los que deberíamos, esto indica varios ```falsos negativos```, lo cual puede afectar negativamente al negocio \n",
    "\n",
    "Si ahora para otra muestra tenemos los siguientes valores:\n",
    "- ```PD=0.94```\n",
    "- ```%Default=0.66```\n",
    "\n",
    "En esa muestra encontramos la mayor parte de nuestros falsos positivos. Estas son oportunidades que se pueden perder al predecirlas como default. Pero para este problema resultan menos perjudiciales que los defaults"
   ]
  },
  {
   "cell_type": "code",
   "execution_count": 1,
   "metadata": {},
   "outputs": [],
   "source": [
    "import pandas as pd\n",
    "import numpy as np\n",
    "from sklearn.linear_model import LogisticRegression\n",
    "from sklearn.model_selection import train_test_split, cross_val_score\n",
    "from sklearn.metrics import roc_curve, \\\n",
    "                            classification_report, \\\n",
    "                            precision_recall_fscore_support, \\\n",
    "                            roc_auc_score, \\\n",
    "                            confusion_matrix\n",
    "from sklearn.calibration import calibration_curve\n",
    "import matplotlib.pyplot as plt\n",
    "import matplotlib\n",
    "import xgboost as xgb\n",
    "cr_loan_clean = pd.read_csv(\"data/cr_loan_nout_nmiss.csv\")"
   ]
  },
  {
   "cell_type": "markdown",
   "metadata": {},
   "source": [
    "### Creacion de los conjuntos de entrenamiento y testing"
   ]
  },
  {
   "cell_type": "code",
   "execution_count": 2,
   "metadata": {},
   "outputs": [],
   "source": [
    "cred_num = cr_loan_clean.select_dtypes(exclude=['object'])\n",
    "cred_str = cr_loan_clean.select_dtypes(include=['object'])\n",
    "\n",
    "cred_str_onehot = pd.get_dummies(cred_str)\n",
    "cr_loan_prep = pd.concat([cred_num, cred_str_onehot], axis=1)"
   ]
  },
  {
   "cell_type": "code",
   "execution_count": 3,
   "metadata": {},
   "outputs": [],
   "source": [
    "# Separacion de los features y la variable a predecir\n",
    "columns = list(cr_loan_prep.columns)\n",
    "X_columns = [column for column in columns if column != 'loan_status']\n",
    "X = cr_loan_prep[X_columns]\n",
    "y = cr_loan_prep[['loan_status']]\n",
    "\n",
    "# Creacion del dataset de entrenamiento y de testing\n",
    "X_train, X_test, y_train, y_test = train_test_split(X, y, test_size=.4, random_state=123)"
   ]
  },
  {
   "cell_type": "markdown",
   "metadata": {},
   "source": [
    "## Crear Modelos de ```regresion logistica``` y ```gradient boosting trees```"
   ]
  },
  {
   "cell_type": "markdown",
   "metadata": {},
   "source": [
    "### Logistic Regression"
   ]
  },
  {
   "cell_type": "code",
   "execution_count": 4,
   "metadata": {},
   "outputs": [
    {
     "data": {
      "text/plain": [
       "array([0.4457786 , 0.22344653, 0.28855826, ..., 0.52244951, 0.3704781 ,\n",
       "       0.12378554])"
      ]
     },
     "execution_count": 4,
     "metadata": {},
     "output_type": "execute_result"
    }
   ],
   "source": [
    "clf_logistic = LogisticRegression(solver='lbfgs').fit(X_train, np.ravel(y_train))\n",
    "clf_logistic_preds = clf_logistic.predict_proba(X_test)[:,1]\n",
    "clf_logistic_preds"
   ]
  },
  {
   "cell_type": "markdown",
   "metadata": {},
   "source": [
    "### GBT"
   ]
  },
  {
   "cell_type": "code",
   "execution_count": 5,
   "metadata": {},
   "outputs": [],
   "source": [
    "clf_gbt = xgb.XGBClassifier().fit(X_train,np.ravel(y_train))\n",
    "clf_gbt_preds = clf_gbt.predict_proba(X_test)[:,1]"
   ]
  },
  {
   "cell_type": "markdown",
   "metadata": {},
   "source": [
    "## Pruebas"
   ]
  },
  {
   "cell_type": "code",
   "execution_count": 6,
   "metadata": {},
   "outputs": [
    {
     "data": {
      "image/png": "[encoded data removed]",
      "text/plain": [
       "<Figure size 432x288 with 1 Axes>"
      ]
     },
     "metadata": {
      "needs_background": "light"
     },
     "output_type": "display_data"
    }
   ],
   "source": [
    "# Componentes del ROC chart\n",
    "fallout_lr, sensitivity_lr, thresholds_lr = roc_curve(y_test, clf_logistic_preds)\n",
    "fallout_gbt, sensitivity_gbt, thresholds_gbt = roc_curve(y_test, clf_gbt_preds)\n",
    "\n",
    "# ROC Chart para ambos modelos\n",
    "plt.plot(fallout_lr, sensitivity_lr, color = 'blue', label='%s' % 'Logistic Regression')\n",
    "plt.plot(fallout_gbt, sensitivity_gbt, color = 'green', label='%s' % 'GBT')\n",
    "plt.plot([0, 1], [0, 1], linestyle='--', label='%s' % 'Random Prediction')\n",
    "plt.title(\"ROC Chart for LR and GBT on the Probability of Default\")\n",
    "plt.xlabel('Fall-out')\n",
    "plt.ylabel('Sensitivity')\n",
    "plt.legend()\n",
    "plt.show()"
   ]
  },
  {
   "cell_type": "code",
   "execution_count": 7,
   "metadata": {},
   "outputs": [
    {
     "name": "stdout",
     "output_type": "stream",
     "text": [
      "Logistic Regression AUC Score: 0.76\n",
      "Gradient Boosted Tree AUC Score: 0.93\n"
     ]
    }
   ],
   "source": [
    "# AUC Regresion Logistica\n",
    "print(\"Logistic Regression AUC Score: %0.2f\" % roc_auc_score(y_test, clf_logistic_preds))\n",
    "\n",
    "# AUC Gradient Boosting Trees\n",
    "print(\"Gradient Boosted Tree AUC Score: %0.2f\" % roc_auc_score(y_test, clf_gbt_preds))"
   ]
  },
  {
   "cell_type": "code",
   "execution_count": 8,
   "metadata": {},
   "outputs": [
    {
     "data": {
      "image/png": "[encoded data removed]",
      "text/plain": [
       "<Figure size 432x288 with 1 Axes>"
      ]
     },
     "metadata": {
      "needs_background": "light"
     },
     "output_type": "display_data"
    }
   ],
   "source": [
    "# Creacion de la linea guia para el grafico de la curva de calibracion\n",
    "plt.plot([0, 1], [0, 1], 'k:', label='Perfectly calibrated')    \n",
    "plt.ylabel('Fraction of positives')\n",
    "plt.xlabel('Average Predicted Probability')\n",
    "plt.legend()\n",
    "plt.title('Calibration Curve')\n",
    "plt.show()"
   ]
  },
  {
   "cell_type": "code",
   "execution_count": 9,
   "metadata": {},
   "outputs": [],
   "source": [
    "# calibration_curve??"
   ]
  },
  {
   "cell_type": "code",
   "execution_count": 10,
   "metadata": {},
   "outputs": [],
   "source": [
    "# Calibration curve para LR\n",
    "frac_of_pos_lr, mean_pred_val_lr = calibration_curve(y_test, clf_logistic_preds, n_bins=20)\n",
    "\n",
    "# Calibration curve para GBT\n",
    "frac_of_pos_gbt, mean_pred_val_gbt = calibration_curve(y_test, clf_gbt_preds, n_bins=20)"
   ]
  },
  {
   "cell_type": "markdown",
   "metadata": {},
   "source": [
    "## Fracciones y promedios para la curva de calibracion"
   ]
  },
  {
   "cell_type": "markdown",
   "metadata": {},
   "source": [
    "## Visualizacion de la curva de calibracion"
   ]
  },
  {
   "cell_type": "code",
   "execution_count": 11,
   "metadata": {},
   "outputs": [
    {
     "data": {
      "image/png": "[encoded data removed]",
      "text/plain": [
       "<Figure size 432x288 with 1 Axes>"
      ]
     },
     "metadata": {
      "needs_background": "light"
     },
     "output_type": "display_data"
    }
   ],
   "source": [
    "# Se acrega la curva de calibracion para la regresion logistica al grafico\n",
    "plt.plot([0, 1], [0, 1], 'k:', label='Perfectly calibrated')    \n",
    "plt.plot(mean_pred_val_lr, frac_of_pos_lr,\n",
    "         's-', label='%s' % 'Logistic Regression')\n",
    "plt.ylabel('Fraction of positives')\n",
    "plt.xlabel('Average Predicted Probability')\n",
    "plt.legend()\n",
    "plt.title('Calibration Curve')\n",
    "plt.show()"
   ]
  },
  {
   "cell_type": "code",
   "execution_count": 12,
   "metadata": {},
   "outputs": [
    {
     "data": {
      "image/png": "[encoded data removed]",
      "text/plain": [
       "<Figure size 432x288 with 1 Axes>"
      ]
     },
     "metadata": {
      "needs_background": "light"
     },
     "output_type": "display_data"
    }
   ],
   "source": [
    "# Se acrega la curva de calibracion para GBT al grafico\n",
    "plt.plot([0, 1], [0, 1], 'k:', label='Perfectly calibrated')    \n",
    "plt.plot(mean_pred_val_lr, frac_of_pos_lr,\n",
    "         's-', label='%s' % 'Logistic Regression')\n",
    "plt.plot(mean_pred_val_gbt, frac_of_pos_gbt,\n",
    "         's-', label='%s' % 'Gradient Boosted tree')\n",
    "plt.ylabel('Fraction of positives')\n",
    "plt.xlabel('Average Predicted Probability')\n",
    "plt.legend()\n",
    "plt.title('Calibration Curve')\n",
    "plt.show()"
   ]
  },
  {
   "cell_type": "markdown",
   "metadata": {},
   "source": [
    "# Ratio de Aceptacion de Créditos\n",
    "Hasta el momento en todos los notebooks desarrollados, usamos ```thresholds``` seleccionados empiricamente o directamente los ```thresholds``` que implementan los modelos por defecto.\n",
    "\n",
    "Por ejemplo, si elegimos como ```threshold=0.4``` entonces tendriamos lo siguiente:\n",
    "\n",
    "<table style=\"width:100%; align:center; text-align: center\">\n",
    "  <tr>\n",
    "    <th>Prestamo</th>\n",
    "    <th>Probabilidad de Default</th>\n",
    "    <th>Threshold</th>\n",
    "    <th>Status del Prestamo</th>\n",
    "  </tr>\n",
    "  <tr>\n",
    "    <td>1</td>\n",
    "    <td>0.25</td>\n",
    "    <td>0.4</td>\n",
    "    <td>0</td>\n",
    "  </tr>\n",
    "  <tr>\n",
    "    <td>2</td>\n",
    "    <td>0.42</td>\n",
    "    <td>0.4</td>\n",
    "    <td>1</td>\n",
    "  </tr>\n",
    "  <tr>\n",
    "    <td>3</td>\n",
    "    <td>0.75</td>\n",
    "    <td>0.4</td>\n",
    "    <td>1</td>\n",
    "  </tr>\n",
    "</table>\n",
    "\n",
    "Todos los prestamos con probabilidades por debajo de ```0.4``` serían considerados como ```non-defaults``` y los superiores al ```threshold``` serían considerados ```defaults```\n",
    "\n",
    "Como los modelos ya han calculado las probabilidades, podemos usar estas probabilidades para calcular el ```threshold```. Como el ```threshold``` es utilizado para determinar si la colocacion de un prestamo será un default o no, también puede ser utilizado para aprobar o rechazar nuevos prestamos que llegan. \n",
    "\n",
    "A modo de ejemplo asumamos que nuestro conjunto de prueba ```test set``` es un batch de nuevos prestamos. Antes de elegir un nuevo ```threshold``` debemos introducir el concepto de ratio de aceptacion o ```acceptance rate```\n",
    "\n",
    "```Acceptance Rate```: consiste en el porcentage de prestamos nuevos que aceptamos con el objetivo de mantener el numero de defaults por debajo de cierto número.\n",
    "\n",
    "Para poder calcular el ```threshold``` para obtener cierto porcentaje de ```acceptance rate``` utilizaremos la funcion ```np.quantile``` de numpy. Esto utiliza nuestro array de probabilidades de default y el ```acceptance rate``` para determinar que valores separan nuestros prestamos aceptados de los rechazados. \n",
    "\n",
    "Si por ejemplo ejecutacemos ```threshold = np.quantile(prob_default, 0.85)``` y obtuviesemos como threshold ```0.81``` nuestras predicciones serían:\n",
    "\n",
    "<table style=\"width:100%; align:center; text-align: center\">\n",
    "  <tr>\n",
    "    <th>Prestamo</th>\n",
    "    <th>prob_default</th>\n",
    "    <th>Threshold</th>\n",
    "    <th>Status Predicho</th>\n",
    "    <th>Aceptar | Rechazar</th>\n",
    "  </tr>\n",
    "  <tr>\n",
    "    <td>1</td>\n",
    "    <td>0.65</td>\n",
    "    <td>0.81</td>\n",
    "    <td>0</td>\n",
    "    <td>Aceptar</td>\n",
    "  </tr>\n",
    "  <tr>\n",
    "    <td>2</td>\n",
    "    <td>0.85</td>\n",
    "    <td>0.81</td>\n",
    "    <td>1</td>\n",
    "    <td>Rechazar</td>\n",
    "  </tr>\n",
    "</table>\n",
    "\n",
    "A pesar de que elegimos el nuevo threshold, en nuestro conjunto de prestamos aceptados pueden haber algunos que en realidad serán ```defaults```. Esto se debe a que nuestro modelo no está bien calibrado y al porcentaje de potenciales defaults aceptados lo llamamos ```Bad Rate```\n",
    "\n",
    "El ```Bad Rate``` se puede calcular de la siguiente manera:\n",
    "\n",
    "<img src=\"images/bad-rate.png\" class=\"center\" alt=\"Bad Rate\" />"
   ]
  },
  {
   "cell_type": "code",
   "execution_count": 13,
   "metadata": {},
   "outputs": [
    {
     "data": {
      "text/html": [
       "<div>\n",
       "<style scoped>\n",
       "    .dataframe tbody tr th:only-of-type {\n",
       "        vertical-align: middle;\n",
       "    }\n",
       "\n",
       "    .dataframe tbody tr th {\n",
       "        vertical-align: top;\n",
       "    }\n",
       "\n",
       "    .dataframe thead th {\n",
       "        text-align: right;\n",
       "    }\n",
       "</style>\n",
       "<table border=\"1\" class=\"dataframe\">\n",
       "  <thead>\n",
       "    <tr style=\"text-align: right;\">\n",
       "      <th></th>\n",
       "      <th>true_loan_status</th>\n",
       "      <th>prob_default</th>\n",
       "    </tr>\n",
       "  </thead>\n",
       "  <tbody>\n",
       "    <tr>\n",
       "      <td>0</td>\n",
       "      <td>1</td>\n",
       "      <td>0.940435</td>\n",
       "    </tr>\n",
       "    <tr>\n",
       "      <td>1</td>\n",
       "      <td>1</td>\n",
       "      <td>0.922014</td>\n",
       "    </tr>\n",
       "    <tr>\n",
       "      <td>2</td>\n",
       "      <td>0</td>\n",
       "      <td>0.021707</td>\n",
       "    </tr>\n",
       "    <tr>\n",
       "      <td>3</td>\n",
       "      <td>0</td>\n",
       "      <td>0.026483</td>\n",
       "    </tr>\n",
       "    <tr>\n",
       "      <td>4</td>\n",
       "      <td>1</td>\n",
       "      <td>0.064803</td>\n",
       "    </tr>\n",
       "  </tbody>\n",
       "</table>\n",
       "</div>"
      ],
      "text/plain": [
       "   true_loan_status  prob_default\n",
       "0                 1      0.940435\n",
       "1                 1      0.922014\n",
       "2                 0      0.021707\n",
       "3                 0      0.026483\n",
       "4                 1      0.064803"
      ]
     },
     "execution_count": 13,
     "metadata": {},
     "output_type": "execute_result"
    }
   ],
   "source": [
    "true_loan_status = y_test.rename(columns={'loan_status': 'true_loan_status'}, inplace=False)\n",
    "test_pred_df = pd.concat([true_loan_status.reset_index(drop=True), \n",
    "                              pd.DataFrame(clf_gbt_preds, columns=['prob_default'])],\n",
    "                             axis=1)\n",
    "test_pred_df.head()"
   ]
  },
  {
   "cell_type": "code",
   "execution_count": 14,
   "metadata": {},
   "outputs": [
    {
     "name": "stdout",
     "output_type": "stream",
     "text": [
      "count    11784.000000\n",
      "mean         0.218806\n",
      "std          0.300486\n",
      "min          0.001122\n",
      "25%          0.038786\n",
      "50%          0.078899\n",
      "75%          0.214860\n",
      "max          0.999459\n",
      "Name: prob_default, dtype: float64\n"
     ]
    }
   ],
   "source": [
    "print(test_pred_df['prob_default'].describe())"
   ]
  },
  {
   "cell_type": "code",
   "execution_count": 15,
   "metadata": {},
   "outputs": [
    {
     "data": {
      "text/html": [
       "<div>\n",
       "<style scoped>\n",
       "    .dataframe tbody tr th:only-of-type {\n",
       "        vertical-align: middle;\n",
       "    }\n",
       "\n",
       "    .dataframe tbody tr th {\n",
       "        vertical-align: top;\n",
       "    }\n",
       "\n",
       "    .dataframe thead th {\n",
       "        text-align: right;\n",
       "    }\n",
       "</style>\n",
       "<table border=\"1\" class=\"dataframe\">\n",
       "  <thead>\n",
       "    <tr style=\"text-align: right;\">\n",
       "      <th></th>\n",
       "      <th>loan_status</th>\n",
       "    </tr>\n",
       "  </thead>\n",
       "  <tbody>\n",
       "    <tr>\n",
       "      <td>28606</td>\n",
       "      <td>1</td>\n",
       "    </tr>\n",
       "    <tr>\n",
       "      <td>22585</td>\n",
       "      <td>1</td>\n",
       "    </tr>\n",
       "    <tr>\n",
       "      <td>13888</td>\n",
       "      <td>0</td>\n",
       "    </tr>\n",
       "    <tr>\n",
       "      <td>3145</td>\n",
       "      <td>0</td>\n",
       "    </tr>\n",
       "    <tr>\n",
       "      <td>14882</td>\n",
       "      <td>1</td>\n",
       "    </tr>\n",
       "  </tbody>\n",
       "</table>\n",
       "</div>"
      ],
      "text/plain": [
       "       loan_status\n",
       "28606            1\n",
       "22585            1\n",
       "13888            0\n",
       "3145             0\n",
       "14882            1"
      ]
     },
     "execution_count": 15,
     "metadata": {},
     "output_type": "execute_result"
    }
   ],
   "source": [
    "y_test.head()"
   ]
  },
  {
   "cell_type": "code",
   "execution_count": 16,
   "metadata": {},
   "outputs": [
    {
     "name": "stdout",
     "output_type": "stream",
     "text": [
      "0    10016\n",
      "1     1768\n",
      "Name: pred_loan_status, dtype: int64\n"
     ]
    }
   ],
   "source": [
    "# Calculo de threshold para tener un 0.85 acceptance rate\n",
    "acceptance_rate = 0.85\n",
    "threshold = np.quantile(test_pred_df['prob_default'], acceptance_rate)\n",
    "\n",
    "# Aplicacion del threshold a las probabilidades predichas\n",
    "test_pred_df['pred_loan_status'] = test_pred_df['prob_default'].apply(lambda x: 1 if x > threshold else 0)\n",
    "\n",
    "# Conteo de status de los prestamos luego de aplicar el threshold\n",
    "print(test_pred_df['pred_loan_status'].value_counts())"
   ]
  },
  {
   "cell_type": "code",
   "execution_count": 17,
   "metadata": {},
   "outputs": [
    {
     "data": {
      "text/html": [
       "<div>\n",
       "<style scoped>\n",
       "    .dataframe tbody tr th:only-of-type {\n",
       "        vertical-align: middle;\n",
       "    }\n",
       "\n",
       "    .dataframe tbody tr th {\n",
       "        vertical-align: top;\n",
       "    }\n",
       "\n",
       "    .dataframe thead th {\n",
       "        text-align: right;\n",
       "    }\n",
       "</style>\n",
       "<table border=\"1\" class=\"dataframe\">\n",
       "  <thead>\n",
       "    <tr style=\"text-align: right;\">\n",
       "      <th></th>\n",
       "      <th>true_loan_status</th>\n",
       "      <th>prob_default</th>\n",
       "      <th>pred_loan_status</th>\n",
       "    </tr>\n",
       "  </thead>\n",
       "  <tbody>\n",
       "    <tr>\n",
       "      <td>0</td>\n",
       "      <td>1</td>\n",
       "      <td>0.940435</td>\n",
       "      <td>1</td>\n",
       "    </tr>\n",
       "    <tr>\n",
       "      <td>1</td>\n",
       "      <td>1</td>\n",
       "      <td>0.922014</td>\n",
       "      <td>1</td>\n",
       "    </tr>\n",
       "    <tr>\n",
       "      <td>2</td>\n",
       "      <td>0</td>\n",
       "      <td>0.021707</td>\n",
       "      <td>0</td>\n",
       "    </tr>\n",
       "    <tr>\n",
       "      <td>3</td>\n",
       "      <td>0</td>\n",
       "      <td>0.026483</td>\n",
       "      <td>0</td>\n",
       "    </tr>\n",
       "    <tr>\n",
       "      <td>4</td>\n",
       "      <td>1</td>\n",
       "      <td>0.064803</td>\n",
       "      <td>0</td>\n",
       "    </tr>\n",
       "  </tbody>\n",
       "</table>\n",
       "</div>"
      ],
      "text/plain": [
       "   true_loan_status  prob_default  pred_loan_status\n",
       "0                 1      0.940435                 1\n",
       "1                 1      0.922014                 1\n",
       "2                 0      0.021707                 0\n",
       "3                 0      0.026483                 0\n",
       "4                 1      0.064803                 0"
      ]
     },
     "execution_count": 17,
     "metadata": {},
     "output_type": "execute_result"
    }
   ],
   "source": [
    "test_pred_df.head()"
   ]
  },
  {
   "cell_type": "markdown",
   "metadata": {},
   "source": [
    "### Visualizacion de los cuantiles de aceptacion"
   ]
  },
  {
   "cell_type": "code",
   "execution_count": 18,
   "metadata": {},
   "outputs": [
    {
     "data": {
      "image/png": "[encoded data removed]",
      "text/plain": [
       "<Figure size 432x288 with 1 Axes>"
      ]
     },
     "metadata": {
      "needs_background": "light"
     },
     "output_type": "display_data"
    }
   ],
   "source": [
    "# Plot tde las probabilidades de default predichas\n",
    "plt.hist(clf_gbt_preds, color = 'blue', bins = 40)\n",
    "\n",
    "# Calculo del threshold\n",
    "threshold = np.quantile(clf_gbt_preds, 0.85)\n",
    "\n",
    "# Linea de referencia para el threshold\n",
    "plt.axvline(x = threshold, color = 'red')\n",
    "plt.show()"
   ]
  },
  {
   "cell_type": "markdown",
   "metadata": {},
   "source": [
    "### Bad Rates"
   ]
  },
  {
   "cell_type": "code",
   "execution_count": 19,
   "metadata": {},
   "outputs": [
    {
     "name": "stdout",
     "output_type": "stream",
     "text": [
      "0.08746006389776358\n"
     ]
    }
   ],
   "source": [
    "# Subset de prestamos aceptados\n",
    "accepted_loans = test_pred_df[test_pred_df['pred_loan_status'] == 0]\n",
    "\n",
    "# Calculo del Bad Rate\n",
    "print(np.sum(accepted_loans['true_loan_status']) / accepted_loans['true_loan_status'].count())"
   ]
  },
  {
   "cell_type": "code",
   "execution_count": 20,
   "metadata": {},
   "outputs": [
    {
     "name": "stdout",
     "output_type": "stream",
     "text": [
      "count    11784.000000\n",
      "mean      9556.283944\n",
      "std       6238.005674\n",
      "min        500.000000\n",
      "25%       5000.000000\n",
      "50%       8000.000000\n",
      "75%      12000.000000\n",
      "max      35000.000000\n",
      "Name: loan_amnt, dtype: float64\n"
     ]
    }
   ],
   "source": [
    "print(X_test['loan_amnt'].describe())"
   ]
  },
  {
   "cell_type": "code",
   "execution_count": 21,
   "metadata": {},
   "outputs": [
    {
     "name": "stdout",
     "output_type": "stream",
     "text": [
      "pred_loan_status             0             1\n",
      "true_loan_status                            \n",
      "0                 8.734444e+07  5.542645e+05\n",
      "1                 8.371305e+06  1.634125e+07\n"
     ]
    }
   ],
   "source": [
    "# Store the average loan amount\n",
    "avg_loan = np.mean(X_test['loan_amnt'])\n",
    "\n",
    "# Crosstab\n",
    "print(pd.crosstab(test_pred_df['true_loan_status'],\n",
    "                 test_pred_df['pred_loan_status']).apply(lambda x: x * avg_loan, axis = 0))"
   ]
  },
  {
   "cell_type": "markdown",
   "metadata": {},
   "source": [
    "# Estrategia de credito y Perdida Mínima Esperada\n",
    "## Seleccionando un ```Acceptance Rate```\n",
    "En lugar de elegir un ```Acceptance Rate``` de forma manual como se hizo más arriba, podemos elegirlo de forma automática. Para esto podemos crear una tabla con una serie de ```Acceptance Rate``` que luego seran probados automáticamente. A esta tabla la llamamos tabla estrategica o ```strategy table``` "
   ]
  },
  {
   "cell_type": "markdown",
   "metadata": {},
   "source": [
    "## Calculando la tabla de valores"
   ]
  },
  {
   "cell_type": "code",
   "execution_count": 22,
   "metadata": {},
   "outputs": [],
   "source": [
    "# Ejecutar una vez\n",
    "test_pred_df = pd.concat([test_pred_df, pd.DataFrame(X_test['loan_amnt']).reset_index(drop=True)], axis=1)"
   ]
  },
  {
   "cell_type": "code",
   "execution_count": 23,
   "metadata": {},
   "outputs": [
    {
     "data": {
      "text/plain": [
       "[0.0,\n",
       " 0.05,\n",
       " 0.1,\n",
       " 0.15,\n",
       " 0.2,\n",
       " 0.25,\n",
       " 0.3,\n",
       " 0.35,\n",
       " 0.4,\n",
       " 0.45,\n",
       " 0.5,\n",
       " 0.55,\n",
       " 0.6,\n",
       " 0.65,\n",
       " 0.7,\n",
       " 0.75,\n",
       " 0.8,\n",
       " 0.85,\n",
       " 0.9,\n",
       " 0.95,\n",
       " 1.0]"
      ]
     },
     "execution_count": 23,
     "metadata": {},
     "output_type": "execute_result"
    }
   ],
   "source": [
    "accept_rates = [ i/100 for i in range(101) if (i%5 == 0)]\n",
    "accept_rates"
   ]
  },
  {
   "cell_type": "code",
   "execution_count": 24,
   "metadata": {},
   "outputs": [],
   "source": [
    "# Populate the arrays for the strategy table with a for loop\n",
    "preds_df_gbt = test_pred_df\n",
    "thresholds, bad_rates = [], []\n",
    "accepted_loans_list = []\n",
    "avg_loan_amnts = []\n",
    "estimated_values = []\n",
    "for rate in accept_rates:\n",
    "    # Calculo del threshold para el acceptance rate\n",
    "    thresh = np.quantile(preds_df_gbt['prob_default'], rate).round(3)\n",
    "    # Se agrega el valor del threshold a la lista de valores\n",
    "    thresholds.append(np.quantile(preds_df_gbt['prob_default'], rate).round(3))\n",
    "    # Se reasigna el valor del loan_stats usando el threshold\n",
    "    test_pred_df['pred_loan_status'] = test_pred_df['prob_default'].apply(lambda x: 1 if x > thresh else 0)\n",
    "\n",
    "    # Se crea un conjunto de loans aceptados usando el acceptance rate\n",
    "    accepted_loans = test_pred_df[test_pred_df['pred_loan_status'] == 0]\n",
    "    # Se calcula el bad rate usando el acceptance rate y se agrega a una lista\n",
    "    bad_rates.append(np.sum((accepted_loans['true_loan_status']) / len(accepted_loans['true_loan_status'])).round(3))\n",
    "    \n",
    "    # Usando los prestamos aceptados, calculamos cuantos de los mismos fueron aceptados\n",
    "    accepted_loans_list.append(len(accepted_loans['true_loan_status']))\n",
    "    # Calculamos el promedio de loans \n",
    "    avg_amnt = np.mean(accepted_loans['loan_amnt'])\n",
    "    if (avg_amnt >= 0 or avg_amnt < 0) == False:\n",
    "        avg_amnt = np.float(0.0)\n",
    "    avg_loan_amnts.append(avg_amnt)\n",
    "    \n",
    "    # Dentro del conjunto de prestamos aceptados\n",
    "    # Tomamos el conjunto de prestamos que no son defaults\n",
    "    # y calculamos el valor total de dichos prestamos\n",
    "    non_default_loans_amnt = np.sum(accepted_loans[accepted_loans['true_loan_status'] == 0 ]['loan_amnt'])\n",
    "    # Tomamos el conjunto de prestamos que son defaults\n",
    "    # y calculamos el valor total de dichos prestamos\n",
    "    default_loans_amnt = np.sum(accepted_loans[accepted_loans['true_loan_status'] == 1 ]['loan_amnt'])\n",
    "    # Calculamos el valor estimado restando el monto total de prestamos no default\n",
    "    # menos el valor total de preestamos defaults\n",
    "    estimated_values.append(non_default_loans_amnt - default_loans_amnt)"
   ]
  },
  {
   "cell_type": "code",
   "execution_count": 25,
   "metadata": {},
   "outputs": [
    {
     "name": "stdout",
     "output_type": "stream",
     "text": [
      "    Acceptance Rate  Threshold  Bad Rate\n",
      "0              0.00      0.001     0.000\n",
      "1              0.05      0.008     0.000\n",
      "2              0.10      0.017     0.002\n",
      "3              0.15      0.025     0.003\n",
      "4              0.20      0.032     0.004\n",
      "5              0.25      0.039     0.009\n",
      "6              0.30      0.045     0.013\n",
      "7              0.35      0.053     0.017\n",
      "8              0.40      0.062     0.023\n",
      "9              0.45      0.070     0.027\n",
      "10             0.50      0.079     0.032\n",
      "11             0.55      0.090     0.037\n",
      "12             0.60      0.105     0.041\n",
      "13             0.65      0.128     0.046\n",
      "14             0.70      0.158     0.052\n",
      "15             0.75      0.215     0.061\n",
      "16             0.80      0.330     0.071\n",
      "17             0.85      0.584     0.088\n",
      "18             0.90      0.878     0.133\n",
      "19             0.95      0.962     0.178\n",
      "20             1.00      0.999     0.219\n"
     ]
    }
   ],
   "source": [
    "# Creamos un dataframe de la tabla estrategica o strategy table\n",
    "strat_df = pd.DataFrame(zip(accept_rates, thresholds, bad_rates),\n",
    "                        columns = ['Acceptance Rate','Threshold','Bad Rate'])\n",
    "\n",
    "print(strat_df)"
   ]
  },
  {
   "cell_type": "code",
   "execution_count": 26,
   "metadata": {},
   "outputs": [
    {
     "data": {
      "image/png": "[encoded data removed]",
      "text/plain": [
       "<Figure size 432x288 with 1 Axes>"
      ]
     },
     "metadata": {
      "needs_background": "light"
     },
     "output_type": "display_data"
    }
   ],
   "source": [
    "# Obtenemos un boxplot para ver la distribucion de los valores\n",
    "strat_df[['Acceptance Rate', 'Threshold','Bad Rate',]].boxplot()\n",
    "plt.show()"
   ]
  },
  {
   "cell_type": "code",
   "execution_count": 27,
   "metadata": {},
   "outputs": [
    {
     "name": "stderr",
     "output_type": "stream",
     "text": [
      "/Users/sgaseretto/.pyenv/versions/anaconda3-5.3.0/envs/grokking-dl/lib/python3.7/site-packages/ipykernel_launcher.py:7: MatplotlibDeprecationWarning: Adding an axes using the same arguments as a previous axes currently reuses the earlier instance.  In a future version, a new instance will always be created and returned.  Meanwhile, this warning can be suppressed, and the future behavior ensured, by passing a unique label to each axes instance.\n",
      "  import sys\n",
      "/Users/sgaseretto/.pyenv/versions/anaconda3-5.3.0/envs/grokking-dl/lib/python3.7/site-packages/ipykernel_launcher.py:8: MatplotlibDeprecationWarning: Adding an axes using the same arguments as a previous axes currently reuses the earlier instance.  In a future version, a new instance will always be created and returned.  Meanwhile, this warning can be suppressed, and the future behavior ensured, by passing a unique label to each axes instance.\n",
      "  \n"
     ]
    },
    {
     "data": {
      "image/png": "[encoded data removed]",
      "text/plain": [
       "<Figure size 432x288 with 1 Axes>"
      ]
     },
     "metadata": {
      "needs_background": "light"
     },
     "output_type": "display_data"
    }
   ],
   "source": [
    "# Graficamos el ratio de malos prestamos en funcion del ratio de aceptacion\n",
    "import sys\n",
    "plt.plot(strat_df['Acceptance Rate'], strat_df['Bad Rate'])\n",
    "plt.xlabel('Acceptance Rate')\n",
    "plt.ylabel('Bad Rate')\n",
    "plt.title('Acceptance and Bad Rates')\n",
    "plt.axes().yaxis.grid()\n",
    "plt.axes().xaxis.grid()\n",
    "plt.show()"
   ]
  },
  {
   "cell_type": "code",
   "execution_count": 28,
   "metadata": {},
   "outputs": [
    {
     "data": {
      "text/plain": [
       "[0,\n",
       " 572,\n",
       " 1175,\n",
       " 1793,\n",
       " 2338,\n",
       " 2979,\n",
       " 3534,\n",
       " 4096,\n",
       " 4744,\n",
       " 5318,\n",
       " 5910,\n",
       " 6487,\n",
       " 7085,\n",
       " 7652,\n",
       " 8242,\n",
       " 8840,\n",
       " 9429,\n",
       " 10017,\n",
       " 10605,\n",
       " 11194,\n",
       " 11778]"
      ]
     },
     "execution_count": 28,
     "metadata": {},
     "output_type": "execute_result"
    }
   ],
   "source": [
    "accepted_loans_list"
   ]
  },
  {
   "cell_type": "code",
   "execution_count": 29,
   "metadata": {},
   "outputs": [
    {
     "data": {
      "text/plain": [
       "[0.0,\n",
       " 8902.753496503496,\n",
       " 9394.702127659575,\n",
       " 9398.759063022866,\n",
       " 9458.15868263473,\n",
       " 9646.189996643168,\n",
       " 9707.173174872665,\n",
       " 9801.593017578125,\n",
       " 9701.486087689713,\n",
       " 9618.625423091387,\n",
       " 9508.164128595601,\n",
       " 9435.702173577925,\n",
       " 9333.239237826394,\n",
       " 9233.504312598014,\n",
       " 9166.12169376365,\n",
       " 9133.461538461539,\n",
       " 9193.352953653623,\n",
       " 9283.098732155337,\n",
       " 9283.991041961339,\n",
       " 9387.359299624799,\n",
       " 9557.777211750721]"
      ]
     },
     "execution_count": 29,
     "metadata": {},
     "output_type": "execute_result"
    }
   ],
   "source": [
    "avg_loan_amnts"
   ]
  },
  {
   "cell_type": "code",
   "execution_count": 30,
   "metadata": {},
   "outputs": [
    {
     "data": {
      "text/plain": [
       "[0,\n",
       " 5092375,\n",
       " 10996525,\n",
       " 16775775,\n",
       " 21916975,\n",
       " 28138350,\n",
       " 33312700,\n",
       " 38604025,\n",
       " 43658600,\n",
       " 48208400,\n",
       " 52443950,\n",
       " 56619450,\n",
       " 60635100,\n",
       " 64121625,\n",
       " 67830225,\n",
       " 71244350,\n",
       " 74353725,\n",
       " 76086700,\n",
       " 71425225,\n",
       " 64799850,\n",
       " 57310450]"
      ]
     },
     "execution_count": 30,
     "metadata": {},
     "output_type": "execute_result"
    }
   ],
   "source": [
    "estimated_values"
   ]
  },
  {
   "cell_type": "code",
   "execution_count": 31,
   "metadata": {},
   "outputs": [
    {
     "data": {
      "text/html": [
       "<div>\n",
       "<style scoped>\n",
       "    .dataframe tbody tr th:only-of-type {\n",
       "        vertical-align: middle;\n",
       "    }\n",
       "\n",
       "    .dataframe tbody tr th {\n",
       "        vertical-align: top;\n",
       "    }\n",
       "\n",
       "    .dataframe thead th {\n",
       "        text-align: right;\n",
       "    }\n",
       "</style>\n",
       "<table border=\"1\" class=\"dataframe\">\n",
       "  <thead>\n",
       "    <tr style=\"text-align: right;\">\n",
       "      <th></th>\n",
       "      <th>Num Accepted Loans</th>\n",
       "      <th>Avg Loan Amnt</th>\n",
       "      <th>Estimated Value</th>\n",
       "    </tr>\n",
       "  </thead>\n",
       "  <tbody>\n",
       "    <tr>\n",
       "      <td>0</td>\n",
       "      <td>0</td>\n",
       "      <td>0.000000</td>\n",
       "      <td>0</td>\n",
       "    </tr>\n",
       "    <tr>\n",
       "      <td>1</td>\n",
       "      <td>572</td>\n",
       "      <td>8902.753497</td>\n",
       "      <td>5092375</td>\n",
       "    </tr>\n",
       "    <tr>\n",
       "      <td>2</td>\n",
       "      <td>1175</td>\n",
       "      <td>9394.702128</td>\n",
       "      <td>10996525</td>\n",
       "    </tr>\n",
       "    <tr>\n",
       "      <td>3</td>\n",
       "      <td>1793</td>\n",
       "      <td>9398.759063</td>\n",
       "      <td>16775775</td>\n",
       "    </tr>\n",
       "    <tr>\n",
       "      <td>4</td>\n",
       "      <td>2338</td>\n",
       "      <td>9458.158683</td>\n",
       "      <td>21916975</td>\n",
       "    </tr>\n",
       "    <tr>\n",
       "      <td>5</td>\n",
       "      <td>2979</td>\n",
       "      <td>9646.189997</td>\n",
       "      <td>28138350</td>\n",
       "    </tr>\n",
       "    <tr>\n",
       "      <td>6</td>\n",
       "      <td>3534</td>\n",
       "      <td>9707.173175</td>\n",
       "      <td>33312700</td>\n",
       "    </tr>\n",
       "    <tr>\n",
       "      <td>7</td>\n",
       "      <td>4096</td>\n",
       "      <td>9801.593018</td>\n",
       "      <td>38604025</td>\n",
       "    </tr>\n",
       "    <tr>\n",
       "      <td>8</td>\n",
       "      <td>4744</td>\n",
       "      <td>9701.486088</td>\n",
       "      <td>43658600</td>\n",
       "    </tr>\n",
       "    <tr>\n",
       "      <td>9</td>\n",
       "      <td>5318</td>\n",
       "      <td>9618.625423</td>\n",
       "      <td>48208400</td>\n",
       "    </tr>\n",
       "    <tr>\n",
       "      <td>10</td>\n",
       "      <td>5910</td>\n",
       "      <td>9508.164129</td>\n",
       "      <td>52443950</td>\n",
       "    </tr>\n",
       "    <tr>\n",
       "      <td>11</td>\n",
       "      <td>6487</td>\n",
       "      <td>9435.702174</td>\n",
       "      <td>56619450</td>\n",
       "    </tr>\n",
       "    <tr>\n",
       "      <td>12</td>\n",
       "      <td>7085</td>\n",
       "      <td>9333.239238</td>\n",
       "      <td>60635100</td>\n",
       "    </tr>\n",
       "    <tr>\n",
       "      <td>13</td>\n",
       "      <td>7652</td>\n",
       "      <td>9233.504313</td>\n",
       "      <td>64121625</td>\n",
       "    </tr>\n",
       "    <tr>\n",
       "      <td>14</td>\n",
       "      <td>8242</td>\n",
       "      <td>9166.121694</td>\n",
       "      <td>67830225</td>\n",
       "    </tr>\n",
       "    <tr>\n",
       "      <td>15</td>\n",
       "      <td>8840</td>\n",
       "      <td>9133.461538</td>\n",
       "      <td>71244350</td>\n",
       "    </tr>\n",
       "    <tr>\n",
       "      <td>16</td>\n",
       "      <td>9429</td>\n",
       "      <td>9193.352954</td>\n",
       "      <td>74353725</td>\n",
       "    </tr>\n",
       "    <tr>\n",
       "      <td>17</td>\n",
       "      <td>10017</td>\n",
       "      <td>9283.098732</td>\n",
       "      <td>76086700</td>\n",
       "    </tr>\n",
       "    <tr>\n",
       "      <td>18</td>\n",
       "      <td>10605</td>\n",
       "      <td>9283.991042</td>\n",
       "      <td>71425225</td>\n",
       "    </tr>\n",
       "    <tr>\n",
       "      <td>19</td>\n",
       "      <td>11194</td>\n",
       "      <td>9387.359300</td>\n",
       "      <td>64799850</td>\n",
       "    </tr>\n",
       "    <tr>\n",
       "      <td>20</td>\n",
       "      <td>11778</td>\n",
       "      <td>9557.777212</td>\n",
       "      <td>57310450</td>\n",
       "    </tr>\n",
       "  </tbody>\n",
       "</table>\n",
       "</div>"
      ],
      "text/plain": [
       "    Num Accepted Loans  Avg Loan Amnt  Estimated Value\n",
       "0                    0       0.000000                0\n",
       "1                  572    8902.753497          5092375\n",
       "2                 1175    9394.702128         10996525\n",
       "3                 1793    9398.759063         16775775\n",
       "4                 2338    9458.158683         21916975\n",
       "5                 2979    9646.189997         28138350\n",
       "6                 3534    9707.173175         33312700\n",
       "7                 4096    9801.593018         38604025\n",
       "8                 4744    9701.486088         43658600\n",
       "9                 5318    9618.625423         48208400\n",
       "10                5910    9508.164129         52443950\n",
       "11                6487    9435.702174         56619450\n",
       "12                7085    9333.239238         60635100\n",
       "13                7652    9233.504313         64121625\n",
       "14                8242    9166.121694         67830225\n",
       "15                8840    9133.461538         71244350\n",
       "16                9429    9193.352954         74353725\n",
       "17               10017    9283.098732         76086700\n",
       "18               10605    9283.991042         71425225\n",
       "19               11194    9387.359300         64799850\n",
       "20               11778    9557.777212         57310450"
      ]
     },
     "execution_count": 31,
     "metadata": {},
     "output_type": "execute_result"
    }
   ],
   "source": [
    "# Creamos un dataframe con los calculos sobre los valores\n",
    "accepted_loans_list\n",
    "avg_loan_amnts\n",
    "estimated_values\n",
    "\n",
    "values_dic = {'Num Accepted Loans': accepted_loans_list, \n",
    "              'Avg Loan Amnt': avg_loan_amnts, \n",
    "              'Estimated Value': estimated_values}\n",
    "values_df = pd.DataFrame(values_dic)\n",
    "values_df.head(21)"
   ]
  },
  {
   "cell_type": "code",
   "execution_count": 32,
   "metadata": {},
   "outputs": [
    {
     "data": {
      "text/html": [
       "<div>\n",
       "<style scoped>\n",
       "    .dataframe tbody tr th:only-of-type {\n",
       "        vertical-align: middle;\n",
       "    }\n",
       "\n",
       "    .dataframe tbody tr th {\n",
       "        vertical-align: top;\n",
       "    }\n",
       "\n",
       "    .dataframe thead th {\n",
       "        text-align: right;\n",
       "    }\n",
       "</style>\n",
       "<table border=\"1\" class=\"dataframe\">\n",
       "  <thead>\n",
       "    <tr style=\"text-align: right;\">\n",
       "      <th></th>\n",
       "      <th>Acceptance Rate</th>\n",
       "      <th>Threshold</th>\n",
       "      <th>Bad Rate</th>\n",
       "      <th>Num Accepted Loans</th>\n",
       "      <th>Avg Loan Amnt</th>\n",
       "      <th>Estimated Value</th>\n",
       "    </tr>\n",
       "  </thead>\n",
       "  <tbody>\n",
       "    <tr>\n",
       "      <td>0</td>\n",
       "      <td>0.00</td>\n",
       "      <td>0.001</td>\n",
       "      <td>0.000</td>\n",
       "      <td>0</td>\n",
       "      <td>0.000000</td>\n",
       "      <td>0</td>\n",
       "    </tr>\n",
       "    <tr>\n",
       "      <td>1</td>\n",
       "      <td>0.05</td>\n",
       "      <td>0.008</td>\n",
       "      <td>0.000</td>\n",
       "      <td>572</td>\n",
       "      <td>8902.753497</td>\n",
       "      <td>5092375</td>\n",
       "    </tr>\n",
       "    <tr>\n",
       "      <td>2</td>\n",
       "      <td>0.10</td>\n",
       "      <td>0.017</td>\n",
       "      <td>0.002</td>\n",
       "      <td>1175</td>\n",
       "      <td>9394.702128</td>\n",
       "      <td>10996525</td>\n",
       "    </tr>\n",
       "    <tr>\n",
       "      <td>3</td>\n",
       "      <td>0.15</td>\n",
       "      <td>0.025</td>\n",
       "      <td>0.003</td>\n",
       "      <td>1793</td>\n",
       "      <td>9398.759063</td>\n",
       "      <td>16775775</td>\n",
       "    </tr>\n",
       "    <tr>\n",
       "      <td>4</td>\n",
       "      <td>0.20</td>\n",
       "      <td>0.032</td>\n",
       "      <td>0.004</td>\n",
       "      <td>2338</td>\n",
       "      <td>9458.158683</td>\n",
       "      <td>21916975</td>\n",
       "    </tr>\n",
       "    <tr>\n",
       "      <td>5</td>\n",
       "      <td>0.25</td>\n",
       "      <td>0.039</td>\n",
       "      <td>0.009</td>\n",
       "      <td>2979</td>\n",
       "      <td>9646.189997</td>\n",
       "      <td>28138350</td>\n",
       "    </tr>\n",
       "    <tr>\n",
       "      <td>6</td>\n",
       "      <td>0.30</td>\n",
       "      <td>0.045</td>\n",
       "      <td>0.013</td>\n",
       "      <td>3534</td>\n",
       "      <td>9707.173175</td>\n",
       "      <td>33312700</td>\n",
       "    </tr>\n",
       "    <tr>\n",
       "      <td>7</td>\n",
       "      <td>0.35</td>\n",
       "      <td>0.053</td>\n",
       "      <td>0.017</td>\n",
       "      <td>4096</td>\n",
       "      <td>9801.593018</td>\n",
       "      <td>38604025</td>\n",
       "    </tr>\n",
       "    <tr>\n",
       "      <td>8</td>\n",
       "      <td>0.40</td>\n",
       "      <td>0.062</td>\n",
       "      <td>0.023</td>\n",
       "      <td>4744</td>\n",
       "      <td>9701.486088</td>\n",
       "      <td>43658600</td>\n",
       "    </tr>\n",
       "    <tr>\n",
       "      <td>9</td>\n",
       "      <td>0.45</td>\n",
       "      <td>0.070</td>\n",
       "      <td>0.027</td>\n",
       "      <td>5318</td>\n",
       "      <td>9618.625423</td>\n",
       "      <td>48208400</td>\n",
       "    </tr>\n",
       "    <tr>\n",
       "      <td>10</td>\n",
       "      <td>0.50</td>\n",
       "      <td>0.079</td>\n",
       "      <td>0.032</td>\n",
       "      <td>5910</td>\n",
       "      <td>9508.164129</td>\n",
       "      <td>52443950</td>\n",
       "    </tr>\n",
       "    <tr>\n",
       "      <td>11</td>\n",
       "      <td>0.55</td>\n",
       "      <td>0.090</td>\n",
       "      <td>0.037</td>\n",
       "      <td>6487</td>\n",
       "      <td>9435.702174</td>\n",
       "      <td>56619450</td>\n",
       "    </tr>\n",
       "    <tr>\n",
       "      <td>12</td>\n",
       "      <td>0.60</td>\n",
       "      <td>0.105</td>\n",
       "      <td>0.041</td>\n",
       "      <td>7085</td>\n",
       "      <td>9333.239238</td>\n",
       "      <td>60635100</td>\n",
       "    </tr>\n",
       "    <tr>\n",
       "      <td>13</td>\n",
       "      <td>0.65</td>\n",
       "      <td>0.128</td>\n",
       "      <td>0.046</td>\n",
       "      <td>7652</td>\n",
       "      <td>9233.504313</td>\n",
       "      <td>64121625</td>\n",
       "    </tr>\n",
       "    <tr>\n",
       "      <td>14</td>\n",
       "      <td>0.70</td>\n",
       "      <td>0.158</td>\n",
       "      <td>0.052</td>\n",
       "      <td>8242</td>\n",
       "      <td>9166.121694</td>\n",
       "      <td>67830225</td>\n",
       "    </tr>\n",
       "    <tr>\n",
       "      <td>15</td>\n",
       "      <td>0.75</td>\n",
       "      <td>0.215</td>\n",
       "      <td>0.061</td>\n",
       "      <td>8840</td>\n",
       "      <td>9133.461538</td>\n",
       "      <td>71244350</td>\n",
       "    </tr>\n",
       "    <tr>\n",
       "      <td>16</td>\n",
       "      <td>0.80</td>\n",
       "      <td>0.330</td>\n",
       "      <td>0.071</td>\n",
       "      <td>9429</td>\n",
       "      <td>9193.352954</td>\n",
       "      <td>74353725</td>\n",
       "    </tr>\n",
       "    <tr>\n",
       "      <td>17</td>\n",
       "      <td>0.85</td>\n",
       "      <td>0.584</td>\n",
       "      <td>0.088</td>\n",
       "      <td>10017</td>\n",
       "      <td>9283.098732</td>\n",
       "      <td>76086700</td>\n",
       "    </tr>\n",
       "    <tr>\n",
       "      <td>18</td>\n",
       "      <td>0.90</td>\n",
       "      <td>0.878</td>\n",
       "      <td>0.133</td>\n",
       "      <td>10605</td>\n",
       "      <td>9283.991042</td>\n",
       "      <td>71425225</td>\n",
       "    </tr>\n",
       "    <tr>\n",
       "      <td>19</td>\n",
       "      <td>0.95</td>\n",
       "      <td>0.962</td>\n",
       "      <td>0.178</td>\n",
       "      <td>11194</td>\n",
       "      <td>9387.359300</td>\n",
       "      <td>64799850</td>\n",
       "    </tr>\n",
       "    <tr>\n",
       "      <td>20</td>\n",
       "      <td>1.00</td>\n",
       "      <td>0.999</td>\n",
       "      <td>0.219</td>\n",
       "      <td>11778</td>\n",
       "      <td>9557.777212</td>\n",
       "      <td>57310450</td>\n",
       "    </tr>\n",
       "  </tbody>\n",
       "</table>\n",
       "</div>"
      ],
      "text/plain": [
       "    Acceptance Rate  Threshold  Bad Rate  Num Accepted Loans  Avg Loan Amnt  \\\n",
       "0              0.00      0.001     0.000                   0       0.000000   \n",
       "1              0.05      0.008     0.000                 572    8902.753497   \n",
       "2              0.10      0.017     0.002                1175    9394.702128   \n",
       "3              0.15      0.025     0.003                1793    9398.759063   \n",
       "4              0.20      0.032     0.004                2338    9458.158683   \n",
       "5              0.25      0.039     0.009                2979    9646.189997   \n",
       "6              0.30      0.045     0.013                3534    9707.173175   \n",
       "7              0.35      0.053     0.017                4096    9801.593018   \n",
       "8              0.40      0.062     0.023                4744    9701.486088   \n",
       "9              0.45      0.070     0.027                5318    9618.625423   \n",
       "10             0.50      0.079     0.032                5910    9508.164129   \n",
       "11             0.55      0.090     0.037                6487    9435.702174   \n",
       "12             0.60      0.105     0.041                7085    9333.239238   \n",
       "13             0.65      0.128     0.046                7652    9233.504313   \n",
       "14             0.70      0.158     0.052                8242    9166.121694   \n",
       "15             0.75      0.215     0.061                8840    9133.461538   \n",
       "16             0.80      0.330     0.071                9429    9193.352954   \n",
       "17             0.85      0.584     0.088               10017    9283.098732   \n",
       "18             0.90      0.878     0.133               10605    9283.991042   \n",
       "19             0.95      0.962     0.178               11194    9387.359300   \n",
       "20             1.00      0.999     0.219               11778    9557.777212   \n",
       "\n",
       "    Estimated Value  \n",
       "0                 0  \n",
       "1           5092375  \n",
       "2          10996525  \n",
       "3          16775775  \n",
       "4          21916975  \n",
       "5          28138350  \n",
       "6          33312700  \n",
       "7          38604025  \n",
       "8          43658600  \n",
       "9          48208400  \n",
       "10         52443950  \n",
       "11         56619450  \n",
       "12         60635100  \n",
       "13         64121625  \n",
       "14         67830225  \n",
       "15         71244350  \n",
       "16         74353725  \n",
       "17         76086700  \n",
       "18         71425225  \n",
       "19         64799850  \n",
       "20         57310450  "
      ]
     },
     "execution_count": 32,
     "metadata": {},
     "output_type": "execute_result"
    }
   ],
   "source": [
    "# Obtenemos nuestra tabla estrategica final\n",
    "strat_df = pd.concat([strat_df, values_df], axis=1)\n",
    "strat_df.head(21)"
   ]
  },
  {
   "cell_type": "markdown",
   "metadata": {},
   "source": [
    "Una vez obtenida la tabla estrategica, podemos obtener para qué ```Acceptance rate``` y por consiguiente para qué ```Threshold``` obtenemos el mayor Valor Estimado de los prestamos o ```Estimated Value```"
   ]
  },
  {
   "cell_type": "code",
   "execution_count": 33,
   "metadata": {},
   "outputs": [
    {
     "data": {
      "text/html": [
       "<div>\n",
       "<style scoped>\n",
       "    .dataframe tbody tr th:only-of-type {\n",
       "        vertical-align: middle;\n",
       "    }\n",
       "\n",
       "    .dataframe tbody tr th {\n",
       "        vertical-align: top;\n",
       "    }\n",
       "\n",
       "    .dataframe thead th {\n",
       "        text-align: right;\n",
       "    }\n",
       "</style>\n",
       "<table border=\"1\" class=\"dataframe\">\n",
       "  <thead>\n",
       "    <tr style=\"text-align: right;\">\n",
       "      <th></th>\n",
       "      <th>Acceptance Rate</th>\n",
       "      <th>Threshold</th>\n",
       "      <th>Bad Rate</th>\n",
       "      <th>Num Accepted Loans</th>\n",
       "      <th>Avg Loan Amnt</th>\n",
       "      <th>Estimated Value</th>\n",
       "    </tr>\n",
       "  </thead>\n",
       "  <tbody>\n",
       "    <tr>\n",
       "      <td>17</td>\n",
       "      <td>0.85</td>\n",
       "      <td>0.584</td>\n",
       "      <td>0.088</td>\n",
       "      <td>10017</td>\n",
       "      <td>9283.098732</td>\n",
       "      <td>76086700</td>\n",
       "    </tr>\n",
       "  </tbody>\n",
       "</table>\n",
       "</div>"
      ],
      "text/plain": [
       "    Acceptance Rate  Threshold  Bad Rate  Num Accepted Loans  Avg Loan Amnt  \\\n",
       "17             0.85      0.584     0.088               10017    9283.098732   \n",
       "\n",
       "    Estimated Value  \n",
       "17         76086700  "
      ]
     },
     "execution_count": 33,
     "metadata": {},
     "output_type": "execute_result"
    }
   ],
   "source": [
    "strat_df.loc[strat_df['Estimated Value'] == np.max(strat_df['Estimated Value'])]"
   ]
  },
  {
   "cell_type": "markdown",
   "metadata": {},
   "source": [
    "## Total Expected Loss\n",
    "<img src=\"images/total-expected-loss.png\" class=\"center\" alt=\"Total Expected Loss\" />"
   ]
  },
  {
   "cell_type": "markdown",
   "metadata": {},
   "source": []
  },
  {
   "cell_type": "code",
   "execution_count": 34,
   "metadata": {},
   "outputs": [
    {
     "data": {
      "text/html": [
       "<div>\n",
       "<style scoped>\n",
       "    .dataframe tbody tr th:only-of-type {\n",
       "        vertical-align: middle;\n",
       "    }\n",
       "\n",
       "    .dataframe tbody tr th {\n",
       "        vertical-align: top;\n",
       "    }\n",
       "\n",
       "    .dataframe thead th {\n",
       "        text-align: right;\n",
       "    }\n",
       "</style>\n",
       "<table border=\"1\" class=\"dataframe\">\n",
       "  <thead>\n",
       "    <tr style=\"text-align: right;\">\n",
       "      <th></th>\n",
       "      <th>true_loan_status</th>\n",
       "      <th>prob_default</th>\n",
       "      <th>pred_loan_status</th>\n",
       "      <th>loan_amnt</th>\n",
       "    </tr>\n",
       "  </thead>\n",
       "  <tbody>\n",
       "    <tr>\n",
       "      <td>0</td>\n",
       "      <td>1</td>\n",
       "      <td>0.940435</td>\n",
       "      <td>0</td>\n",
       "      <td>15000</td>\n",
       "    </tr>\n",
       "    <tr>\n",
       "      <td>1</td>\n",
       "      <td>1</td>\n",
       "      <td>0.922014</td>\n",
       "      <td>0</td>\n",
       "      <td>11200</td>\n",
       "    </tr>\n",
       "    <tr>\n",
       "      <td>2</td>\n",
       "      <td>0</td>\n",
       "      <td>0.021707</td>\n",
       "      <td>0</td>\n",
       "      <td>15000</td>\n",
       "    </tr>\n",
       "    <tr>\n",
       "      <td>3</td>\n",
       "      <td>0</td>\n",
       "      <td>0.026483</td>\n",
       "      <td>0</td>\n",
       "      <td>10800</td>\n",
       "    </tr>\n",
       "    <tr>\n",
       "      <td>4</td>\n",
       "      <td>1</td>\n",
       "      <td>0.064803</td>\n",
       "      <td>0</td>\n",
       "      <td>3000</td>\n",
       "    </tr>\n",
       "  </tbody>\n",
       "</table>\n",
       "</div>"
      ],
      "text/plain": [
       "   true_loan_status  prob_default  pred_loan_status  loan_amnt\n",
       "0                 1      0.940435                 0      15000\n",
       "1                 1      0.922014                 0      11200\n",
       "2                 0      0.021707                 0      15000\n",
       "3                 0      0.026483                 0      10800\n",
       "4                 1      0.064803                 0       3000"
      ]
     },
     "execution_count": 34,
     "metadata": {},
     "output_type": "execute_result"
    }
   ],
   "source": [
    "test_pred_df.head()"
   ]
  },
  {
   "cell_type": "markdown",
   "metadata": {},
   "source": [
    "Supongamos que para el caso de los prestamos en ```test_pred_df``` si ocurre un default, el monto total de prestamo se pierde"
   ]
  },
  {
   "cell_type": "code",
   "execution_count": 35,
   "metadata": {},
   "outputs": [],
   "source": [
    "# Agregar a test_pred_df una columna de 1s para definir la loss_given_default\n",
    "test_pred_df['loss_given_default'] = test_pred_df['true_loan_status'].apply(lambda x: 1 if x == 0 else 1)"
   ]
  },
  {
   "cell_type": "code",
   "execution_count": 36,
   "metadata": {},
   "outputs": [
    {
     "data": {
      "text/html": [
       "<div>\n",
       "<style scoped>\n",
       "    .dataframe tbody tr th:only-of-type {\n",
       "        vertical-align: middle;\n",
       "    }\n",
       "\n",
       "    .dataframe tbody tr th {\n",
       "        vertical-align: top;\n",
       "    }\n",
       "\n",
       "    .dataframe thead th {\n",
       "        text-align: right;\n",
       "    }\n",
       "</style>\n",
       "<table border=\"1\" class=\"dataframe\">\n",
       "  <thead>\n",
       "    <tr style=\"text-align: right;\">\n",
       "      <th></th>\n",
       "      <th>true_loan_status</th>\n",
       "      <th>prob_default</th>\n",
       "      <th>pred_loan_status</th>\n",
       "      <th>loan_amnt</th>\n",
       "      <th>loss_given_default</th>\n",
       "    </tr>\n",
       "  </thead>\n",
       "  <tbody>\n",
       "    <tr>\n",
       "      <td>0</td>\n",
       "      <td>1</td>\n",
       "      <td>0.940435</td>\n",
       "      <td>0</td>\n",
       "      <td>15000</td>\n",
       "      <td>1</td>\n",
       "    </tr>\n",
       "    <tr>\n",
       "      <td>1</td>\n",
       "      <td>1</td>\n",
       "      <td>0.922014</td>\n",
       "      <td>0</td>\n",
       "      <td>11200</td>\n",
       "      <td>1</td>\n",
       "    </tr>\n",
       "    <tr>\n",
       "      <td>2</td>\n",
       "      <td>0</td>\n",
       "      <td>0.021707</td>\n",
       "      <td>0</td>\n",
       "      <td>15000</td>\n",
       "      <td>1</td>\n",
       "    </tr>\n",
       "    <tr>\n",
       "      <td>3</td>\n",
       "      <td>0</td>\n",
       "      <td>0.026483</td>\n",
       "      <td>0</td>\n",
       "      <td>10800</td>\n",
       "      <td>1</td>\n",
       "    </tr>\n",
       "    <tr>\n",
       "      <td>4</td>\n",
       "      <td>1</td>\n",
       "      <td>0.064803</td>\n",
       "      <td>0</td>\n",
       "      <td>3000</td>\n",
       "      <td>1</td>\n",
       "    </tr>\n",
       "  </tbody>\n",
       "</table>\n",
       "</div>"
      ],
      "text/plain": [
       "   true_loan_status  prob_default  pred_loan_status  loan_amnt  \\\n",
       "0                 1      0.940435                 0      15000   \n",
       "1                 1      0.922014                 0      11200   \n",
       "2                 0      0.021707                 0      15000   \n",
       "3                 0      0.026483                 0      10800   \n",
       "4                 1      0.064803                 0       3000   \n",
       "\n",
       "   loss_given_default  \n",
       "0                   1  \n",
       "1                   1  \n",
       "2                   1  \n",
       "3                   1  \n",
       "4                   1  "
      ]
     },
     "execution_count": 36,
     "metadata": {},
     "output_type": "execute_result"
    }
   ],
   "source": [
    "# Print the first five rows of the data frame\n",
    "test_pred_df.head()"
   ]
  },
  {
   "cell_type": "code",
   "execution_count": 37,
   "metadata": {},
   "outputs": [
    {
     "name": "stdout",
     "output_type": "stream",
     "text": [
      "Total expected loss:  $27,238,564.71\n"
     ]
    }
   ],
   "source": [
    "\n",
    "\n",
    "# Calculate the bank's expected loss and assign it to a new column\n",
    "test_pred_df['expected_loss'] = test_pred_df['prob_default'] * test_pred_df['loss_given_default'] * test_pred_df['loan_amnt']\n",
    "\n",
    "# Calculate the total expected loss to two decimal places\n",
    "tot_exp_loss = round(np.sum(test_pred_df['expected_loss']),2)\n",
    "\n",
    "# Print the total expected loss\n",
    "print('Total expected loss: ', '${:,.2f}'.format(tot_exp_loss))"
   ]
  },
  {
   "cell_type": "markdown",
   "metadata": {},
   "source": [
    "Con esto podemos ver cual sería la perdida estimada utilizando el modelo actual"
   ]
  },
  {
   "cell_type": "markdown",
   "metadata": {},
   "source": [
    "# Notas finales\n",
    "## Los tipos de modelos construidos y maneras de trabajar con los datos en este repositorio son:\n",
    "- ```Modelos de riesgo de tiempo discreto```: tambien conocido como ```Discrete-time hazard model (point in time)```, son modelos para los que todos los datos de entrenamiento y predicciones estan fijos para un momento de tiempo especifico.\n",
    "- ```Structural model framework```: el modelo explica el evento de un default basado en otros factores, esto significa que los datos de entrenamiento fueron utilizados para explicar la probabilidad de default. \n",
    "\n",
    "## Otros modelos y tecnicas son:\n",
    "- ```Through-the-cicle model (tiempo continuo)```: condiciones macro-economicas y otra condiciones son usados, pero el riesgo es visto como un evento independiente.\n",
    "- ```Reduced-form model framework```: un enfoque estadistico que estima la probabilidad de default como un evento independiente poissoniano ```(Poisson-based event)```\n",
    "\n",
    "## Por que se usaron Regresion logistica y Gradient Boosting Trees?\n",
    "Otros modelos pueden ser empleados, pero en este caso se eligieron los citados porque:\n",
    "- Son relativamente simples (GBT no siempre)\n",
    "- Son mas fáciles de interpretar (Una red neuronal puede ser mucho mas dificil de interpretar que un modelo de GBT)\n",
    "- Tienen un rendimiento aceptable\n",
    "\n",
    "Modelos de ```caja negra``` como las redes neuronales pueden ser más precisas, pero es más dificil de explicar la toma de decisiones con esos modelos. En pasises como ```Estados Unidos``` si una casa de prestamos rechaza un prestamo a alguien y esta exige una explicación, la empresa esta obligada por ley a explicar el porqué del rechazo\n",
    "\n",
    "## Buenas practicas\n",
    "- Sobre los datos\n",
    "    - Juntar tantos datos como sean posibles\n",
    "    - Usar varias tecnicas para preparar y mejorar los datos (feature engineering)\n",
    "    - Conocer acerca del negocio\n",
    "- Complejidad del modelo\n",
    "    - Modelos más complejos pueden tener mejor performance, pero pueden ser visto como cajas negras\n",
    "    - Pueden haber casos donde el negocio no acepte usar un modelo tan complejo que no puedan entender\n",
    "    - Modelos muy complejos pueden ser complicados de poner en produccion (valga la redundancia)"
   ]
  }
 ],
 "metadata": {
  "kernelspec": {
   "display_name": "Python 3",
   "language": "python",
   "name": "python3"
  },
  "language_info": {
   "codemirror_mode": {
    "name": "ipython",
    "version": 3
   },
   "file_extension": ".py",
   "mimetype": "text/x-python",
   "name": "python",
   "nbconvert_exporter": "python",
   "pygments_lexer": "ipython3",
   "version": "3.7.3"
  }
 },
 "nbformat": 4,
 "nbformat_minor": 2
}
