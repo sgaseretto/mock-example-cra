{
 "cells": [
  {
   "cell_type": "markdown",
   "metadata": {},
   "source": [
    "# Evaluacion e implementacion del Modelo\n",
    "## Macro Average de F1-score\n",
    "Usaremos con una metrica el ```macro average``` que se calcula como se muestra en la figura. De esta manera podremos usar una sola métrica para medir el rendimiento general del modelo\n",
    "\n",
    "<img src=\"images/macro-avg-f1-score.png\" class=\"center\" alt=\"macro avg de f1-score\" />\n",
    "\n",
    "## Analisis usando ROC y AUC\n",
    "- Modelos con mejor performance tendran más Lift, es decir, la curva se alejará más del centro\n",
    "- Más lift significa que el score de AUC será mayor\n",
    "\n",
    "## Calibracion del Modelo\n",
    "Mediremos que tan bien calibradas están las predicciones del modelo.\n",
    "\n",
    "Lo que esto significa es que queremos que las probabilidades de  ```Default``` representen correctamente el nivel de confianza del modelo\n",
    "- La probabilidad de ```Default``` tiene un grado de incertidumbre en su prediccion\n",
    "- Una muestra de prestamos y sus probabilidades de ```default``` predecidas debe ser cercana al porcentage de defaults en esa muestra\n",
    "\n",
    "<table style=\"width:100%; align:center; text-align: center\">\n",
    "  <tr>\n",
    "    <th>Muestra de Prestamos</th>\n",
    "    <th>Promedio Predicho de PD</th>\n",
    "    <th>Porcentaje Real de Defaults en la Muestra</th>\n",
    "    <th>Calibrado?</th>\n",
    "  </tr>\n",
    "  <tr>\n",
    "    <td>10</td>\n",
    "    <td>0.12</td>\n",
    "    <td>0.12</td>\n",
    "    <td>Si</td>\n",
    "  </tr>\n",
    "  <tr>\n",
    "    <td>10</td>\n",
    "    <td>0.25</td>\n",
    "    <td>0.65</td>\n",
    "    <td>No</td>\n",
    "  </tr>\n",
    "</table>\n",
    "\n",
    "En la tabla de arriba de puede ver que en la primera fila para una muestra de 10 prestamos el promedio predicho de los prestamos como defaults es del 12%, el cual coincide con el porcentaje real. En cambio, en la segunda fila el promedio predicho de defaults es de 25%, pero en realidad el 65% de la muestra contiene prestamos con default, por lo que el modelo no está calibrado\n",
    "\n",
    "Para calcular este valor utilizaremos la funcion ```calibration_curve```. El esta funcion toma como paremetros el test set, las probabildades y ```n_bins``` que representa el numero de muestras a tomar\n",
    "\n",
    "Llamemos ```PD``` a las probababilidades predichas y ```%Default``` al porcentaje real de ```Defaults``` en la muestra. \n",
    "Supongamos que para una de las muestras tenemos los valores:\n",
    "- ```PD=0.56```\n",
    "- ```%Default=0.75```\n",
    "\n",
    "Esto indica que estamos prediciendo menos defaults de los que deberíamos, esto indica varios ```falsos negativos```, lo cual puede afectar negativamente al negocio \n",
    "\n",
    "Si ahora para otra muestra tenemos los siguientes valores:\n",
    "- ```PD=0.94```\n",
    "- ```%Default=0.66```\n",
    "\n",
    "En esa muestra encontramos la mayor parte de nuestros falsos positivos. Estas son oportunidades que se pueden perder al predecirlas como default. Pero para este problema resultan menos perjudiciales que los defaults"
   ]
  },
  {
   "cell_type": "code",
   "execution_count": null,
   "metadata": {},
   "outputs": [],
   "source": [
    "import pandas as pd\n",
    "import numpy as np\n",
    "from sklearn.linear_model import LogisticRegression\n",
    "from sklearn.model_selection import train_test_split, cross_val_score\n",
    "from sklearn.metrics import roc_curve, \\\n",
    "                            classification_report, \\\n",
    "                            precision_recall_fscore_support, \\\n",
    "                            roc_auc_score, \\\n",
    "                            confusion_matrix\n",
    "from sklearn.calibration import calibration_curve\n",
    "import matplotlib.pyplot as plt\n",
    "import matplotlib\n",
    "import xgboost as xgb\n",
    "cr_loan_clean = pd.read_csv(\"data/cr_loan_nout_nmiss.csv\")"
   ]
  }
 ],
 "metadata": {
  "kernelspec": {
   "display_name": "Python 3",
   "language": "python",
   "name": "python3"
  },
  "language_info": {
   "codemirror_mode": {
    "name": "ipython",
    "version": 3
   },
   "file_extension": ".py",
   "mimetype": "text/x-python",
   "name": "python",
   "nbconvert_exporter": "python",
   "pygments_lexer": "ipython3",
   "version": "3.7.3"
  }
 },
 "nbformat": 4,
 "nbformat_minor": 2
}
